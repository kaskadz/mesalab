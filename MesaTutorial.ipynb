{
 "cells": [
  {
   "cell_type": "code",
   "execution_count": null,
   "metadata": {},
   "outputs": [],
   "source": [
    "%matplotlib inline"
   ]
  },
  {
   "cell_type": "code",
   "execution_count": null,
   "metadata": {},
   "outputs": [],
   "source": [
    "from enum import Enum\n",
    "from tqdm.notebook import tqdm\n",
    "from mesa import Agent, Model\n",
    "from mesa.time import RandomActivation\n",
    "from mesa.space import ContinuousSpace\n",
    "from mesa.batchrunner import BatchRunner\n",
    "from mesa.visualization.modules import CanvasGrid\n",
    "from mesa.datacollection import DataCollector\n",
    "from bokeh.plotting import figure\n",
    "from bokeh.models import ColumnDataSource, Line\n",
    "from bokeh.models.annotations import Legend\n",
    "from bokeh.palettes import Category10\n",
    "import matplotlib.pyplot as plt\n",
    "from matplotlib.colors import rgb2hex\n",
    "import pandas as pd\n",
    "import panel as pn\n",
    "import math\n",
    "import itertools\n",
    "pn.extension()"
   ]
  },
  {
   "cell_type": "markdown",
   "metadata": {},
   "source": [
    "# Mesa\n",
    "> Mesa is a modular framework for building, analyzing and visualizing **agent-based models**.\n",
    "\n",
    "[Documentation](https://mesa.readthedocs.io/en/master/overview.html)"
   ]
  },
  {
   "cell_type": "markdown",
   "metadata": {},
   "source": [
    "# Introduction"
   ]
  },
  {
   "cell_type": "markdown",
   "metadata": {},
   "source": [
    "The simulation is composed of the following components:\n",
    "- `Model` class - representing the model.\n",
    "- `Agent` class - representing the agent.\n",
    "- `Scheduler` class - agent activation strategy\n",
    "- `step` method - simulation logic"
   ]
  },
  {
   "cell_type": "markdown",
   "metadata": {},
   "source": [
    "In the simulation we will have a continouous space. Agents will move within it and infect other agents."
   ]
  },
  {
   "cell_type": "markdown",
   "metadata": {},
   "source": [
    "# Simulation model"
   ]
  },
  {
   "cell_type": "code",
   "execution_count": null,
   "metadata": {},
   "outputs": [],
   "source": [
    "class State(Enum):\n",
    "    UNAFFECTED = 0\n",
    "    INFECTED = 1\n",
    "    RECOVERED = 2\n",
    "    DEAD = 3"
   ]
  },
  {
   "cell_type": "markdown",
   "metadata": {},
   "source": [
    "### _Ex. 1. Warmup_"
   ]
  },
  {
   "cell_type": "code",
   "execution_count": null,
   "metadata": {},
   "outputs": [],
   "source": [
    "def change_position(pos, speed, heading):\n",
    "    x, y = pos\n",
    "    return # TODO 1: return new position"
   ]
  },
  {
   "cell_type": "markdown",
   "metadata": {},
   "source": [
    "## Agent"
   ]
  },
  {
   "cell_type": "markdown",
   "metadata": {},
   "source": [
    "### _Ex. 2. Agent implementation_"
   ]
  },
  {
   "cell_type": "code",
   "execution_count": null,
   "metadata": {},
   "outputs": [],
   "source": [
    "class EpidemicAgent(Agent):\n",
    "    \"\"\" An agent with fixed initial wealth.\"\"\"\n",
    "    def __init__(self, unique_id, model, state):\n",
    "        super().__init__(unique_id, model)\n",
    "        self.state = state\n",
    "        self.infection_probability = model.infection_p\n",
    "        self.infection_radius = model.infection_r\n",
    "        self.speed = model.initial_speed\n",
    "        self.heading = self.random.uniform(0, 2 * math.pi)\n",
    "        self.time_infected_min = model.infection_time_min\n",
    "        self.time_infected = self.random.uniform(0, self.time_infected_min) if state == State.INFECTED else 0\n",
    "        self.infection_end_p = model.infection_end_p\n",
    "        self.death_p = model.death_p\n",
    "\n",
    "    def move(self):\n",
    "        # Move agent\n",
    "        new_pos = change_position(self.pos, self.speed, self.heading)\n",
    "        self.model.grid.move_agent(self, new_pos)\n",
    "        # Update velocity\n",
    "        self.speed += self.random.uniform(-3, 3)\n",
    "        self.heading += self.random.uniform(-math.pi/4, math.pi/4)\n",
    "    \n",
    "    def infect_others(self):\n",
    "        # TODO 2: Select agents within `infection_radius`\n",
    "        # TODO 2: Infect others with `infection_probability`\n",
    "        pass\n",
    "\n",
    "    def become_infected(self):\n",
    "        if self.state == State.UNAFFECTED:\n",
    "            self.state = State.INFECTED\n",
    "            self.time_infected = 0\n",
    "    \n",
    "    def try_die_or_recover(self):\n",
    "        # TODO 6: implement recovery or death after no sooner then `time_infected_min`\n",
    "        # TIP: use the following fields: `time_infected`, `time_infected_min`, `solution_p`, `death_p`\n",
    "        # TIP: use `die` and `recover` methods\n",
    "        pass\n",
    "    \n",
    "    def die(self):\n",
    "        self.model.grid.remove_agent(self)\n",
    "        self.model.schedule.remove(self)\n",
    "        self.state = State.DEAD\n",
    "\n",
    "    def recover(self):\n",
    "        self.state = State.RECOVERED\n",
    "\n",
    "    def step(self):\n",
    "        # TODO 2: Move agent\n",
    "        \n",
    "        if self.state == State.INFECTED:\n",
    "            self.time_infected += 1\n",
    "            self.infect_others()\n",
    "            self.try_die_or_recover()"
   ]
  },
  {
   "cell_type": "code",
   "execution_count": null,
   "metadata": {},
   "outputs": [],
   "source": [
    "def compute_alive(model):\n",
    "    return len(model.schedule.agents)"
   ]
  },
  {
   "cell_type": "code",
   "execution_count": null,
   "metadata": {},
   "outputs": [],
   "source": [
    "def compute_infected(model):\n",
    "    return 0 # TODO 5: return number of sick agents"
   ]
  },
  {
   "cell_type": "code",
   "execution_count": null,
   "metadata": {},
   "outputs": [],
   "source": [
    "def compute_dead(model):\n",
    "    return model.num_agents - compute_alive(model)"
   ]
  },
  {
   "cell_type": "code",
   "execution_count": null,
   "metadata": {},
   "outputs": [],
   "source": [
    "def compute_recovered(model):\n",
    "    return len([a for a in model.schedule.agents if a.state == State.RECOVERED])"
   ]
  },
  {
   "cell_type": "markdown",
   "metadata": {},
   "source": [
    "## Model"
   ]
  },
  {
   "cell_type": "markdown",
   "metadata": {},
   "source": [
    "### Ex. 3. Model implementation"
   ]
  },
  {
   "cell_type": "code",
   "execution_count": null,
   "metadata": {},
   "outputs": [],
   "source": [
    "class EpidemicModel(Model):\n",
    "    \"\"\"A model with some number of agents.\"\"\"\n",
    "    def __init__(self,\n",
    "                 N,\n",
    "                 initial_infection_p,\n",
    "                 infection_p,\n",
    "                 infection_r,\n",
    "                 infection_time_min,\n",
    "                 infection_end_p,\n",
    "                 death_p,\n",
    "                 initial_speed):\n",
    "        x_max, y_max = 1000, 1000\n",
    "        self.num_agents = N\n",
    "        \n",
    "        self.initial_infection_p = initial_infection_p\n",
    "        self.infection_p = infection_p\n",
    "        self.infection_r = infection_r\n",
    "        self.infection_time_min = infection_time_min\n",
    "        self.infection_end_p = infection_end_p\n",
    "        self.death_p = death_p\n",
    "        self.initial_speed = initial_speed\n",
    "        \n",
    "        self.grid = ContinuousSpace(x_max, y_max, torus=True)\n",
    "        self.schedule = RandomActivation(self)\n",
    "        self.running = True\n",
    "\n",
    "        # Create agents\n",
    "        for i in range(self.num_agents):\n",
    "            is_sick = self.random.random() < initial_infection_p\n",
    "            a = EpidemicAgent(i, self, state=State.INFECTED if is_sick else State.UNAFFECTED)\n",
    "            self.schedule.add(a)\n",
    "            \n",
    "            x = self.random.uniform(0, self.grid.width)\n",
    "            y = self.random.uniform(0, self.grid.height)\n",
    "            \n",
    "            # TODO 3: Add agent to randomly selected place on the grid\n",
    "            # TIP: grid has `place_agent` method\n",
    "            \n",
    "            \n",
    "        self.datacollector = DataCollector(\n",
    "            model_reporters = {\n",
    "                'alive': compute_alive,\n",
    "                'infected': compute_infected,\n",
    "                'dead': compute_dead,\n",
    "                'recovered': compute_recovered\n",
    "            },\n",
    "            agent_reporters = {\n",
    "                'state': 'state',\n",
    "                'speed': 'speed',\n",
    "                'heading': 'heading',\n",
    "                'time_infected': 'time_infected'\n",
    "            }\n",
    "        )\n",
    "        \n",
    "    def step(self):\n",
    "        self.datacollector.collect(self)\n",
    "        self.schedule.step()"
   ]
  },
  {
   "cell_type": "markdown",
   "metadata": {},
   "source": [
    "## Simulation"
   ]
  },
  {
   "cell_type": "code",
   "execution_count": null,
   "metadata": {},
   "outputs": [],
   "source": [
    "params = {\n",
    "    'N': 100,\n",
    "    'initial_infection_p': 0.2,\n",
    "    'infection_p': 0.4,\n",
    "    'infection_r': 30,\n",
    "    'infection_time_min': 20,\n",
    "    'infection_end_p': 0.8,\n",
    "    'death_p': 0.5,\n",
    "    'initial_speed': 10\n",
    "}"
   ]
  },
  {
   "cell_type": "markdown",
   "metadata": {},
   "source": [
    "### Ex. 4. Running the simulation"
   ]
  },
  {
   "cell_type": "code",
   "execution_count": null,
   "metadata": {},
   "outputs": [],
   "source": [
    "model = # TODO 4: Initialize model with params\n",
    "for _ in tqdm(range(100)):\n",
    "    # TODO 4: Run model step"
   ]
  },
  {
   "cell_type": "markdown",
   "metadata": {},
   "source": [
    "## Collectors"
   ]
  },
  {
   "cell_type": "code",
   "execution_count": null,
   "metadata": {},
   "outputs": [],
   "source": [
    "m_df = model.datacollector.get_model_vars_dataframe()\n",
    "m_df"
   ]
  },
  {
   "cell_type": "code",
   "execution_count": null,
   "metadata": {},
   "outputs": [],
   "source": [
    "_ = m_df.plot.line(y='infected')"
   ]
  },
  {
   "cell_type": "code",
   "execution_count": null,
   "metadata": {},
   "outputs": [],
   "source": [
    "a_df = model.datacollector.get_agent_vars_dataframe()\n",
    "a_df"
   ]
  },
  {
   "cell_type": "code",
   "execution_count": null,
   "metadata": {},
   "outputs": [],
   "source": [
    "_ = a_df[a_df.index.get_level_values('AgentID') == 0].plot.line(y=['heading', 'speed'])"
   ]
  },
  {
   "cell_type": "markdown",
   "metadata": {},
   "source": [
    "## Visualization"
   ]
  },
  {
   "cell_type": "code",
   "execution_count": null,
   "metadata": {},
   "outputs": [],
   "source": [
    "def plot_states_bokeh(model, iteration, total):\n",
    "    X = model.datacollector.get_model_vars_dataframe()\n",
    "    source = ColumnDataSource(X)\n",
    "    colors = Category10[10]\n",
    "    items = []\n",
    "    p = figure(plot_width=600, plot_height=400, tools=[], title=f'step: {iteration}', x_range=(0,total))        \n",
    "    for i, c in enumerate(X.columns):\n",
    "        line = Line(x='index', y=c, line_color=colors[i], line_width=3, line_alpha=.8, name=c)\n",
    "        glyph = p.add_glyph(source, line)\n",
    "        i+=1\n",
    "        items.append((c, [glyph]))\n",
    "\n",
    "    p.xaxis.axis_label = 'Step'\n",
    "    p.add_layout(Legend(location='center_right', items=items))\n",
    "    p.background_fill_color = \"#ffffff\"\n",
    "    p.background_fill_alpha = 1\n",
    "    p.legend.label_text_font_size = \"10pt\"\n",
    "    p.title.text_font_size = \"15pt\"\n",
    "    p.toolbar.logo = None\n",
    "    p.sizing_mode = 'scale_height'    \n",
    "    return p"
   ]
  },
  {
   "cell_type": "code",
   "execution_count": null,
   "metadata": {},
   "outputs": [],
   "source": [
    "def plot_agents_bokeh(model):\n",
    "    def plot_agents(p, agents, color):\n",
    "        xx = list(map(lambda x: x.pos[0], agents))\n",
    "        yy = list(map(lambda x: x.pos[1], agents))\n",
    "        ss = list(map(lambda x: x.infection_radius, agents))\n",
    "        p.circle_dot(x=xx, y=yy, size=ss, alpha=0.5, fill_color=color)\n",
    "    \n",
    "    agents = model.schedule.agents\n",
    "    w = model.grid.width\n",
    "    h = model.grid.height\n",
    "    p = figure(plot_width=500, plot_height=500, x_range=(0, w), y_range=(0, h))\n",
    "    \n",
    "    plot_agents(p, list(filter(lambda x: x.state == State.INFECTED, agents)), \"red\")\n",
    "    plot_agents(p, list(filter(lambda x: x.state == State.UNAFFECTED, agents)), \"blue\")\n",
    "    plot_agents(p, list(filter(lambda x: x.state == State.RECOVERED, agents)), \"green\")\n",
    "    \n",
    "    p.grid.grid_line_color = None    \n",
    "    p.axis.axis_line_color = None\n",
    "    p.toolbar.logo = None\n",
    "    return p"
   ]
  },
  {
   "cell_type": "code",
   "execution_count": null,
   "metadata": {},
   "outputs": [],
   "source": [
    "plot_pane = pn.pane.Bokeh()\n",
    "grid_pane = pn.pane.Bokeh()\n",
    "pn.Row(plot_pane, grid_pane, sizing_mode='stretch_width')"
   ]
  },
  {
   "cell_type": "markdown",
   "metadata": {},
   "source": [
    "## Run simulation"
   ]
  },
  {
   "cell_type": "code",
   "execution_count": null,
   "metadata": {},
   "outputs": [],
   "source": [
    "model = EpidemicModel(\n",
    "    N=100,\n",
    "    initial_infection_p=.2,\n",
    "    infection_p=.5,\n",
    "    infection_r=30,\n",
    "    infection_time_min=30,\n",
    "    infection_end_p=0.7,\n",
    "    death_p=0.6,\n",
    "    initial_speed=10\n",
    ")\n",
    "\n",
    "TOTAL = 200\n",
    "for i in range(TOTAL):\n",
    "    model.step()\n",
    "    plot_pane.object = plot_states_bokeh(model, i, TOTAL)\n",
    "    grid_pane.object = plot_agents_bokeh(model)"
   ]
  },
  {
   "cell_type": "markdown",
   "metadata": {},
   "source": [
    "### Ex. 5. Add metrics\n",
    "- Implement _infected_ metric computation (`compute_infected` method)\n",
    "- Rerun simulation to see if it works"
   ]
  },
  {
   "cell_type": "markdown",
   "metadata": {},
   "source": [
    "### Ex. 6. Add death & recovery\n",
    "- Implement (`try_die_or_recover` method) agent's recovery or death after some number of iterations (use `time_infected` parameter)\n",
    "- Rerun simulation to see if it works"
   ]
  },
  {
   "cell_type": "markdown",
   "metadata": {},
   "source": [
    "# Batch running"
   ]
  },
  {
   "cell_type": "code",
   "execution_count": null,
   "metadata": {},
   "outputs": [],
   "source": [
    "fixed_params = {\n",
    "    'N': 100,\n",
    "    'infection_p': 0.5,\n",
    "    'infection_r': 30,\n",
    "    'infection_time_min': 30,\n",
    "    'infection_end_p': 0.7,\n",
    "    'initial_speed': 10\n",
    "}\n",
    "\n",
    "variable_params = {\n",
    "    'initial_infection_p': np.arange(0.1, 1, 0.1),\n",
    "    'death_p': np.arange(0.1, 1, 0.1)\n",
    "}\n",
    "\n",
    "batch_run = BatchRunner(\n",
    "    EpidemicModel,\n",
    "    variable_params,\n",
    "    fixed_params,\n",
    "    iterations=3,\n",
    "    max_steps=100,\n",
    "    model_reporters={\n",
    "        'alive': compute_alive,\n",
    "        'infected': compute_infected,\n",
    "        'dead': compute_dead,\n",
    "        'recovered': compute_recovered\n",
    "    }\n",
    ")\n",
    "\n",
    "batch_run.run_all()"
   ]
  },
  {
   "cell_type": "code",
   "execution_count": null,
   "metadata": {},
   "outputs": [],
   "source": [
    "vars_df = batch_run.get_model_vars_dataframe()\n",
    "vars_df"
   ]
  },
  {
   "cell_type": "code",
   "execution_count": null,
   "metadata": {},
   "outputs": [],
   "source": [
    "input_vars=variable_params.keys()\n",
    "output_vars=['alive', 'dead', 'recovered', 'infected']\n",
    "\n",
    "fig, ax = plt.subplots(len(input_vars), len(output_vars), figsize=(18, 10))\n",
    "fig.subplots_adjust(wspace=0.3)\n",
    "cmap = plt.get_cmap('tab10')\n",
    "colors = [rgb2hex(cmap(c)) for c in range(cmap.N)]\n",
    "for i, o in itertools.product(enumerate(input_vars), enumerate(output_vars)):\n",
    "    i_idx, i_val = i\n",
    "    o_idx, o_val = o\n",
    "    vars_df.plot.scatter(x=i_val, y=o_val, ax=ax[i_idx, o_idx], c=colors[o_idx])"
   ]
  }
 ],
 "metadata": {
  "kernelspec": {
   "display_name": "Python 3",
   "language": "python",
   "name": "python3"
  },
  "language_info": {
   "codemirror_mode": {
    "name": "ipython",
    "version": 3
   },
   "file_extension": ".py",
   "mimetype": "text/x-python",
   "name": "python",
   "nbconvert_exporter": "python",
   "pygments_lexer": "ipython3",
   "version": "3.7.9"
  }
 },
 "nbformat": 4,
 "nbformat_minor": 4
}
